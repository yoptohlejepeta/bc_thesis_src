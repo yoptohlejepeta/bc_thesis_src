{
 "cells": [
  {
   "cell_type": "code",
   "execution_count": null,
   "id": "2f2a36de",
   "metadata": {
    "collapsed": false,
    "jupyter": {
     "outputs_hidden": false
    }
   },
   "outputs": [],
   "source": [
    "import pandas as pd\n",
    "\n",
    "svm_results = pd.read_csv(\"svm_results_metrics.csv\")\n",
    "custom_results_cytoplasm = pd.read_csv(\n",
    "    \"results_data/segmentation/cytoplasm/results.csv\"\n",
    ")\n",
    "custom_results_nucleus = pd.read_csv(\"results_data/segmentation/nucleis/results.csv\")"
   ]
  },
  {
   "cell_type": "code",
   "execution_count": null,
   "id": "cabadf04",
   "metadata": {},
   "outputs": [
    {
     "name": "stdout",
     "output_type": "stream",
     "text": [
      "0.0034923544706444705\n"
     ]
    },
    {
     "data": {
      "application/vnd.microsoft.datawrangler.viewer.v0+json": {
       "columns": [
        {
         "name": "index",
         "rawType": "object",
         "type": "string"
        },
        {
         "name": "image",
         "rawType": "float64",
         "type": "float"
        },
        {
         "name": "f1",
         "rawType": "float64",
         "type": "float"
        },
        {
         "name": "n_objects",
         "rawType": "float64",
         "type": "float"
        }
       ],
       "conversionMethod": "pd.DataFrame",
       "ref": "8d3c79b9-4892-4740-a255-7514e2d123a2",
       "rows": [
        [
         "count",
         "50.0",
         "50.0",
         "50.0"
        ],
        [
         "mean",
         "25.5",
         "0.8396770319516754",
         "17.58"
        ],
        [
         "std",
         "14.577379737113251",
         "0.05909614598808006",
         "5.799683312958756"
        ],
        [
         "min",
         "1.0",
         "0.601793081382642",
         "8.0"
        ],
        [
         "25%",
         "13.25",
         "0.8354461902543147",
         "14.0"
        ],
        [
         "50%",
         "25.5",
         "0.8549009955903393",
         "17.0"
        ],
        [
         "75%",
         "37.75",
         "0.8665091378067459",
         "19.0"
        ],
        [
         "max",
         "50.0",
         "0.908476698146483",
         "40.0"
        ]
       ],
       "shape": {
        "columns": 3,
        "rows": 8
       }
      },
      "text/html": [
       "<div>\n",
       "<style scoped>\n",
       "    .dataframe tbody tr th:only-of-type {\n",
       "        vertical-align: middle;\n",
       "    }\n",
       "\n",
       "    .dataframe tbody tr th {\n",
       "        vertical-align: top;\n",
       "    }\n",
       "\n",
       "    .dataframe thead th {\n",
       "        text-align: right;\n",
       "    }\n",
       "</style>\n",
       "<table border=\"1\" class=\"dataframe\">\n",
       "  <thead>\n",
       "    <tr style=\"text-align: right;\">\n",
       "      <th></th>\n",
       "      <th>image</th>\n",
       "      <th>f1</th>\n",
       "      <th>n_objects</th>\n",
       "    </tr>\n",
       "  </thead>\n",
       "  <tbody>\n",
       "    <tr>\n",
       "      <th>count</th>\n",
       "      <td>50.00000</td>\n",
       "      <td>50.000000</td>\n",
       "      <td>50.000000</td>\n",
       "    </tr>\n",
       "    <tr>\n",
       "      <th>mean</th>\n",
       "      <td>25.50000</td>\n",
       "      <td>0.839677</td>\n",
       "      <td>17.580000</td>\n",
       "    </tr>\n",
       "    <tr>\n",
       "      <th>std</th>\n",
       "      <td>14.57738</td>\n",
       "      <td>0.059096</td>\n",
       "      <td>5.799683</td>\n",
       "    </tr>\n",
       "    <tr>\n",
       "      <th>min</th>\n",
       "      <td>1.00000</td>\n",
       "      <td>0.601793</td>\n",
       "      <td>8.000000</td>\n",
       "    </tr>\n",
       "    <tr>\n",
       "      <th>25%</th>\n",
       "      <td>13.25000</td>\n",
       "      <td>0.835446</td>\n",
       "      <td>14.000000</td>\n",
       "    </tr>\n",
       "    <tr>\n",
       "      <th>50%</th>\n",
       "      <td>25.50000</td>\n",
       "      <td>0.854901</td>\n",
       "      <td>17.000000</td>\n",
       "    </tr>\n",
       "    <tr>\n",
       "      <th>75%</th>\n",
       "      <td>37.75000</td>\n",
       "      <td>0.866509</td>\n",
       "      <td>19.000000</td>\n",
       "    </tr>\n",
       "    <tr>\n",
       "      <th>max</th>\n",
       "      <td>50.00000</td>\n",
       "      <td>0.908477</td>\n",
       "      <td>40.000000</td>\n",
       "    </tr>\n",
       "  </tbody>\n",
       "</table>\n",
       "</div>"
      ],
      "text/plain": [
       "          image         f1  n_objects\n",
       "count  50.00000  50.000000  50.000000\n",
       "mean   25.50000   0.839677  17.580000\n",
       "std    14.57738   0.059096   5.799683\n",
       "min     1.00000   0.601793   8.000000\n",
       "25%    13.25000   0.835446  14.000000\n",
       "50%    25.50000   0.854901  17.000000\n",
       "75%    37.75000   0.866509  19.000000\n",
       "max    50.00000   0.908477  40.000000"
      ]
     },
     "execution_count": 397,
     "metadata": {},
     "output_type": "execute_result"
    }
   ],
   "source": [
    "custom_results_cytoplasm.describe()"
   ]
  },
  {
   "cell_type": "code",
   "execution_count": 387,
   "id": "5994abcb",
   "metadata": {
    "collapsed": false,
    "jupyter": {
     "outputs_hidden": false
    }
   },
   "outputs": [
    {
     "data": {
      "application/vnd.microsoft.datawrangler.viewer.v0+json": {
       "columns": [
        {
         "name": "index",
         "rawType": "object",
         "type": "string"
        },
        {
         "name": "image",
         "rawType": "float64",
         "type": "float"
        },
        {
         "name": "jaccard",
         "rawType": "float64",
         "type": "float"
        },
        {
         "name": "n_objects",
         "rawType": "float64",
         "type": "float"
        }
       ],
       "conversionMethod": "pd.DataFrame",
       "ref": "994ba4c5-0fa6-4bb6-accb-b0955a8d970b",
       "rows": [
        [
         "count",
         "50.0",
         "50.0",
         "50.0"
        ],
        [
         "mean",
         "25.5",
         "0.6856475554029907",
         "25.9"
        ],
        [
         "std",
         "14.577379737113251",
         "0.061396917985152524",
         "8.231968544792247"
        ],
        [
         "min",
         "1.0",
         "0.5354226520088092",
         "10.0"
        ],
        [
         "25%",
         "13.25",
         "0.6454286574752022",
         "20.0"
        ],
        [
         "50%",
         "25.5",
         "0.6884260697481467",
         "25.0"
        ],
        [
         "75%",
         "37.75",
         "0.7360471481660292",
         "31.0"
        ],
        [
         "max",
         "50.0",
         "0.779556507642427",
         "45.0"
        ]
       ],
       "shape": {
        "columns": 3,
        "rows": 8
       }
      },
      "text/html": [
       "<div>\n",
       "<style scoped>\n",
       "    .dataframe tbody tr th:only-of-type {\n",
       "        vertical-align: middle;\n",
       "    }\n",
       "\n",
       "    .dataframe tbody tr th {\n",
       "        vertical-align: top;\n",
       "    }\n",
       "\n",
       "    .dataframe thead th {\n",
       "        text-align: right;\n",
       "    }\n",
       "</style>\n",
       "<table border=\"1\" class=\"dataframe\">\n",
       "  <thead>\n",
       "    <tr style=\"text-align: right;\">\n",
       "      <th></th>\n",
       "      <th>image</th>\n",
       "      <th>jaccard</th>\n",
       "      <th>n_objects</th>\n",
       "    </tr>\n",
       "  </thead>\n",
       "  <tbody>\n",
       "    <tr>\n",
       "      <th>count</th>\n",
       "      <td>50.00000</td>\n",
       "      <td>50.000000</td>\n",
       "      <td>50.000000</td>\n",
       "    </tr>\n",
       "    <tr>\n",
       "      <th>mean</th>\n",
       "      <td>25.50000</td>\n",
       "      <td>0.685648</td>\n",
       "      <td>25.900000</td>\n",
       "    </tr>\n",
       "    <tr>\n",
       "      <th>std</th>\n",
       "      <td>14.57738</td>\n",
       "      <td>0.061397</td>\n",
       "      <td>8.231969</td>\n",
       "    </tr>\n",
       "    <tr>\n",
       "      <th>min</th>\n",
       "      <td>1.00000</td>\n",
       "      <td>0.535423</td>\n",
       "      <td>10.000000</td>\n",
       "    </tr>\n",
       "    <tr>\n",
       "      <th>25%</th>\n",
       "      <td>13.25000</td>\n",
       "      <td>0.645429</td>\n",
       "      <td>20.000000</td>\n",
       "    </tr>\n",
       "    <tr>\n",
       "      <th>50%</th>\n",
       "      <td>25.50000</td>\n",
       "      <td>0.688426</td>\n",
       "      <td>25.000000</td>\n",
       "    </tr>\n",
       "    <tr>\n",
       "      <th>75%</th>\n",
       "      <td>37.75000</td>\n",
       "      <td>0.736047</td>\n",
       "      <td>31.000000</td>\n",
       "    </tr>\n",
       "    <tr>\n",
       "      <th>max</th>\n",
       "      <td>50.00000</td>\n",
       "      <td>0.779557</td>\n",
       "      <td>45.000000</td>\n",
       "    </tr>\n",
       "  </tbody>\n",
       "</table>\n",
       "</div>"
      ],
      "text/plain": [
       "          image    jaccard  n_objects\n",
       "count  50.00000  50.000000  50.000000\n",
       "mean   25.50000   0.685648  25.900000\n",
       "std    14.57738   0.061397   8.231969\n",
       "min     1.00000   0.535423  10.000000\n",
       "25%    13.25000   0.645429  20.000000\n",
       "50%    25.50000   0.688426  25.000000\n",
       "75%    37.75000   0.736047  31.000000\n",
       "max    50.00000   0.779557  45.000000"
      ]
     },
     "execution_count": 387,
     "metadata": {},
     "output_type": "execute_result"
    }
   ],
   "source": [
    "custom_results_nucleus.describe()"
   ]
  },
  {
   "cell_type": "code",
   "execution_count": null,
   "id": "217b99ff",
   "metadata": {},
   "outputs": [
    {
     "data": {
      "application/vnd.microsoft.datawrangler.viewer.v0+json": {
       "columns": [
        {
         "name": "index",
         "rawType": "object",
         "type": "string"
        },
        {
         "name": "F1_Cytoplasma",
         "rawType": "float64",
         "type": "float"
        },
        {
         "name": "F1_Cytoplasma_Mod",
         "rawType": "float64",
         "type": "float"
        },
        {
         "name": "Jaccard_Jadra",
         "rawType": "float64",
         "type": "float"
        },
        {
         "name": "Jaccard_Jadra_Mod",
         "rawType": "float64",
         "type": "float"
        }
       ],
       "conversionMethod": "pd.DataFrame",
       "ref": "980840fe-c104-41ad-9854-e2d3bea21903",
       "rows": [
        [
         "count",
         "50.0",
         "50.0",
         "50.0",
         "50.0"
        ],
        [
         "mean",
         "0.841312809762495",
         "0.847213247451014",
         "0.6981531523421519",
         "0.6767072822350729"
        ],
        [
         "std",
         "0.04851875191922619",
         "0.036879448073068845",
         "0.08827818269237896",
         "0.09172857596285185"
        ],
        [
         "min",
         "0.6176656317423564",
         "0.6836430443032256",
         "0.4374665340778704",
         "0.4578768417075935"
        ],
        [
         "25%",
         "0.8331883361141881",
         "0.839865235519647",
         "0.6696300042337302",
         "0.623659279351411"
        ],
        [
         "50%",
         "0.8509564642682889",
         "0.8513040485523085",
         "0.7159120450101044",
         "0.6788214068008956"
        ],
        [
         "75%",
         "0.8653947541848528",
         "0.8703051011177426",
         "0.758543857658974",
         "0.7482289444329032"
        ],
        [
         "max",
         "0.8908379588435519",
         "0.8990233719215778",
         "0.8256213098997666",
         "0.8439922480620154"
        ]
       ],
       "shape": {
        "columns": 4,
        "rows": 8
       }
      },
      "text/html": [
       "<div>\n",
       "<style scoped>\n",
       "    .dataframe tbody tr th:only-of-type {\n",
       "        vertical-align: middle;\n",
       "    }\n",
       "\n",
       "    .dataframe tbody tr th {\n",
       "        vertical-align: top;\n",
       "    }\n",
       "\n",
       "    .dataframe thead th {\n",
       "        text-align: right;\n",
       "    }\n",
       "</style>\n",
       "<table border=\"1\" class=\"dataframe\">\n",
       "  <thead>\n",
       "    <tr style=\"text-align: right;\">\n",
       "      <th></th>\n",
       "      <th>F1_Cytoplasma</th>\n",
       "      <th>F1_Cytoplasma_Mod</th>\n",
       "      <th>Jaccard_Jadra</th>\n",
       "      <th>Jaccard_Jadra_Mod</th>\n",
       "    </tr>\n",
       "  </thead>\n",
       "  <tbody>\n",
       "    <tr>\n",
       "      <th>count</th>\n",
       "      <td>50.000000</td>\n",
       "      <td>50.000000</td>\n",
       "      <td>50.000000</td>\n",
       "      <td>50.000000</td>\n",
       "    </tr>\n",
       "    <tr>\n",
       "      <th>mean</th>\n",
       "      <td>0.841313</td>\n",
       "      <td>0.847213</td>\n",
       "      <td>0.698153</td>\n",
       "      <td>0.676707</td>\n",
       "    </tr>\n",
       "    <tr>\n",
       "      <th>std</th>\n",
       "      <td>0.048519</td>\n",
       "      <td>0.036879</td>\n",
       "      <td>0.088278</td>\n",
       "      <td>0.091729</td>\n",
       "    </tr>\n",
       "    <tr>\n",
       "      <th>min</th>\n",
       "      <td>0.617666</td>\n",
       "      <td>0.683643</td>\n",
       "      <td>0.437467</td>\n",
       "      <td>0.457877</td>\n",
       "    </tr>\n",
       "    <tr>\n",
       "      <th>25%</th>\n",
       "      <td>0.833188</td>\n",
       "      <td>0.839865</td>\n",
       "      <td>0.669630</td>\n",
       "      <td>0.623659</td>\n",
       "    </tr>\n",
       "    <tr>\n",
       "      <th>50%</th>\n",
       "      <td>0.850956</td>\n",
       "      <td>0.851304</td>\n",
       "      <td>0.715912</td>\n",
       "      <td>0.678821</td>\n",
       "    </tr>\n",
       "    <tr>\n",
       "      <th>75%</th>\n",
       "      <td>0.865395</td>\n",
       "      <td>0.870305</td>\n",
       "      <td>0.758544</td>\n",
       "      <td>0.748229</td>\n",
       "    </tr>\n",
       "    <tr>\n",
       "      <th>max</th>\n",
       "      <td>0.890838</td>\n",
       "      <td>0.899023</td>\n",
       "      <td>0.825621</td>\n",
       "      <td>0.843992</td>\n",
       "    </tr>\n",
       "  </tbody>\n",
       "</table>\n",
       "</div>"
      ],
      "text/plain": [
       "       F1_Cytoplasma  F1_Cytoplasma_Mod  Jaccard_Jadra  Jaccard_Jadra_Mod\n",
       "count      50.000000          50.000000      50.000000          50.000000\n",
       "mean        0.841313           0.847213       0.698153           0.676707\n",
       "std         0.048519           0.036879       0.088278           0.091729\n",
       "min         0.617666           0.683643       0.437467           0.457877\n",
       "25%         0.833188           0.839865       0.669630           0.623659\n",
       "50%         0.850956           0.851304       0.715912           0.678821\n",
       "75%         0.865395           0.870305       0.758544           0.748229\n",
       "max         0.890838           0.899023       0.825621           0.843992"
      ]
     },
     "execution_count": 384,
     "metadata": {},
     "output_type": "execute_result"
    }
   ],
   "source": [
    "svm_results.describe()"
   ]
  },
  {
   "cell_type": "code",
   "execution_count": 388,
   "id": "67c1aaff",
   "metadata": {
    "collapsed": false,
    "jupyter": {
     "outputs_hidden": false
    }
   },
   "outputs": [],
   "source": [
    "svm_results[\"Image\"] = svm_results[\"Image\"].apply(lambda x: int(x.split(\"_\")[-1]) + 1)\n",
    "\n",
    "svm_results.sort_values(by=\"Image\", inplace=True)"
   ]
  },
  {
   "cell_type": "code",
   "execution_count": null,
   "id": "69ea579f",
   "metadata": {
    "collapsed": false,
    "jupyter": {
     "outputs_hidden": false
    }
   },
   "outputs": [],
   "source": [
    "results = svm_results.merge(\n",
    "    custom_results_cytoplasm,\n",
    "    left_on=\"Image\",\n",
    "    right_on=\"image\",\n",
    "    suffixes=(\"\", \"_custom_cytoplasm\"),\n",
    ")\n",
    "results = results.merge(\n",
    "    custom_results_nucleus,\n",
    "    left_on=\"Image\",\n",
    "    right_on=\"image\",\n",
    "    suffixes=(\"\", \"_custom_nucleus\"),\n",
    ")"
   ]
  },
  {
   "cell_type": "code",
   "execution_count": 390,
   "id": "c25bf68a",
   "metadata": {},
   "outputs": [
    {
     "data": {
      "application/vnd.microsoft.datawrangler.viewer.v0+json": {
       "columns": [
        {
         "name": "index",
         "rawType": "int64",
         "type": "integer"
        },
        {
         "name": "Image",
         "rawType": "int64",
         "type": "integer"
        },
        {
         "name": "F1_Cytoplasma",
         "rawType": "float64",
         "type": "float"
        },
        {
         "name": "F1_Cytoplasma_Mod",
         "rawType": "float64",
         "type": "float"
        },
        {
         "name": "Jaccard_Jadra",
         "rawType": "float64",
         "type": "float"
        },
        {
         "name": "Jaccard_Jadra_Mod",
         "rawType": "float64",
         "type": "float"
        },
        {
         "name": "image",
         "rawType": "int64",
         "type": "integer"
        },
        {
         "name": "f1",
         "rawType": "float64",
         "type": "float"
        },
        {
         "name": "time",
         "rawType": "float64",
         "type": "float"
        },
        {
         "name": "method",
         "rawType": "object",
         "type": "string"
        },
        {
         "name": "type",
         "rawType": "object",
         "type": "string"
        },
        {
         "name": "image_custom_nucleus",
         "rawType": "int64",
         "type": "integer"
        },
        {
         "name": "jaccard",
         "rawType": "float64",
         "type": "float"
        },
        {
         "name": "n_objects",
         "rawType": "int64",
         "type": "integer"
        }
       ],
       "conversionMethod": "pd.DataFrame",
       "ref": "99626fc4-df2e-44cd-aaa0-666aeffa3445",
       "rows": [
        [
         "0",
         "1",
         "0.8227387981630229",
         "0.8420351772734839",
         "0.7107344632768362",
         "0.6679414335664335",
         "1",
         "0.8937809244663769",
         "28.86501412600046",
         "watershed",
         "cytoplasm",
         "1",
         "0.7568170591141117",
         "27"
        ],
        [
         "1",
         "2",
         "0.8176730891747164",
         "0.8379143088116411",
         "0.6258719086873811",
         "0.5370156826568265",
         "2",
         "0.8972783850258135",
         "27.440097329999844",
         "watershed",
         "cytoplasm",
         "2",
         "0.5354226520088092",
         "18"
        ],
        [
         "2",
         "3",
         "0.8641623980269398",
         "0.8541305746671286",
         "0.6845580404685836",
         "0.5705820843499477",
         "3",
         "0.8743775816772619",
         "30.94351463600105",
         "watershed",
         "cytoplasm",
         "3",
         "0.5459245839612659",
         "22"
        ],
        [
         "3",
         "4",
         "0.8655487027881136",
         "0.8605716322017377",
         "0.6933826294021808",
         "0.6696675900277008",
         "4",
         "0.7846059348782143",
         "29.901288658998965",
         "watershed",
         "cytoplasm",
         "4",
         "0.6467052070478717",
         "41"
        ],
        [
         "4",
         "5",
         "0.8813801223841721",
         "0.8748676216487375",
         "0.6428822495606327",
         "0.4578768417075935",
         "5",
         "0.8903882371122409",
         "27.51679100399997",
         "watershed",
         "cytoplasm",
         "5",
         "0.6080246055788703",
         "20"
        ]
       ],
       "shape": {
        "columns": 13,
        "rows": 5
       }
      },
      "text/html": [
       "<div>\n",
       "<style scoped>\n",
       "    .dataframe tbody tr th:only-of-type {\n",
       "        vertical-align: middle;\n",
       "    }\n",
       "\n",
       "    .dataframe tbody tr th {\n",
       "        vertical-align: top;\n",
       "    }\n",
       "\n",
       "    .dataframe thead th {\n",
       "        text-align: right;\n",
       "    }\n",
       "</style>\n",
       "<table border=\"1\" class=\"dataframe\">\n",
       "  <thead>\n",
       "    <tr style=\"text-align: right;\">\n",
       "      <th></th>\n",
       "      <th>Image</th>\n",
       "      <th>F1_Cytoplasma</th>\n",
       "      <th>F1_Cytoplasma_Mod</th>\n",
       "      <th>Jaccard_Jadra</th>\n",
       "      <th>Jaccard_Jadra_Mod</th>\n",
       "      <th>image</th>\n",
       "      <th>f1</th>\n",
       "      <th>time</th>\n",
       "      <th>method</th>\n",
       "      <th>type</th>\n",
       "      <th>image_custom_nucleus</th>\n",
       "      <th>jaccard</th>\n",
       "      <th>n_objects</th>\n",
       "    </tr>\n",
       "  </thead>\n",
       "  <tbody>\n",
       "    <tr>\n",
       "      <th>0</th>\n",
       "      <td>1</td>\n",
       "      <td>0.822739</td>\n",
       "      <td>0.842035</td>\n",
       "      <td>0.710734</td>\n",
       "      <td>0.667941</td>\n",
       "      <td>1</td>\n",
       "      <td>0.893781</td>\n",
       "      <td>28.865014</td>\n",
       "      <td>watershed</td>\n",
       "      <td>cytoplasm</td>\n",
       "      <td>1</td>\n",
       "      <td>0.756817</td>\n",
       "      <td>27</td>\n",
       "    </tr>\n",
       "    <tr>\n",
       "      <th>1</th>\n",
       "      <td>2</td>\n",
       "      <td>0.817673</td>\n",
       "      <td>0.837914</td>\n",
       "      <td>0.625872</td>\n",
       "      <td>0.537016</td>\n",
       "      <td>2</td>\n",
       "      <td>0.897278</td>\n",
       "      <td>27.440097</td>\n",
       "      <td>watershed</td>\n",
       "      <td>cytoplasm</td>\n",
       "      <td>2</td>\n",
       "      <td>0.535423</td>\n",
       "      <td>18</td>\n",
       "    </tr>\n",
       "    <tr>\n",
       "      <th>2</th>\n",
       "      <td>3</td>\n",
       "      <td>0.864162</td>\n",
       "      <td>0.854131</td>\n",
       "      <td>0.684558</td>\n",
       "      <td>0.570582</td>\n",
       "      <td>3</td>\n",
       "      <td>0.874378</td>\n",
       "      <td>30.943515</td>\n",
       "      <td>watershed</td>\n",
       "      <td>cytoplasm</td>\n",
       "      <td>3</td>\n",
       "      <td>0.545925</td>\n",
       "      <td>22</td>\n",
       "    </tr>\n",
       "    <tr>\n",
       "      <th>3</th>\n",
       "      <td>4</td>\n",
       "      <td>0.865549</td>\n",
       "      <td>0.860572</td>\n",
       "      <td>0.693383</td>\n",
       "      <td>0.669668</td>\n",
       "      <td>4</td>\n",
       "      <td>0.784606</td>\n",
       "      <td>29.901289</td>\n",
       "      <td>watershed</td>\n",
       "      <td>cytoplasm</td>\n",
       "      <td>4</td>\n",
       "      <td>0.646705</td>\n",
       "      <td>41</td>\n",
       "    </tr>\n",
       "    <tr>\n",
       "      <th>4</th>\n",
       "      <td>5</td>\n",
       "      <td>0.881380</td>\n",
       "      <td>0.874868</td>\n",
       "      <td>0.642882</td>\n",
       "      <td>0.457877</td>\n",
       "      <td>5</td>\n",
       "      <td>0.890388</td>\n",
       "      <td>27.516791</td>\n",
       "      <td>watershed</td>\n",
       "      <td>cytoplasm</td>\n",
       "      <td>5</td>\n",
       "      <td>0.608025</td>\n",
       "      <td>20</td>\n",
       "    </tr>\n",
       "  </tbody>\n",
       "</table>\n",
       "</div>"
      ],
      "text/plain": [
       "   Image  F1_Cytoplasma  F1_Cytoplasma_Mod  Jaccard_Jadra  Jaccard_Jadra_Mod  \\\n",
       "0      1       0.822739           0.842035       0.710734           0.667941   \n",
       "1      2       0.817673           0.837914       0.625872           0.537016   \n",
       "2      3       0.864162           0.854131       0.684558           0.570582   \n",
       "3      4       0.865549           0.860572       0.693383           0.669668   \n",
       "4      5       0.881380           0.874868       0.642882           0.457877   \n",
       "\n",
       "   image        f1       time     method       type  image_custom_nucleus  \\\n",
       "0      1  0.893781  28.865014  watershed  cytoplasm                     1   \n",
       "1      2  0.897278  27.440097  watershed  cytoplasm                     2   \n",
       "2      3  0.874378  30.943515  watershed  cytoplasm                     3   \n",
       "3      4  0.784606  29.901289  watershed  cytoplasm                     4   \n",
       "4      5  0.890388  27.516791  watershed  cytoplasm                     5   \n",
       "\n",
       "    jaccard  n_objects  \n",
       "0  0.756817         27  \n",
       "1  0.535423         18  \n",
       "2  0.545925         22  \n",
       "3  0.646705         41  \n",
       "4  0.608025         20  "
      ]
     },
     "execution_count": 390,
     "metadata": {},
     "output_type": "execute_result"
    }
   ],
   "source": [
    "results.head()"
   ]
  },
  {
   "cell_type": "code",
   "execution_count": null,
   "id": "33d7b1d3",
   "metadata": {},
   "outputs": [],
   "source": [
    "import pandas as pd\n",
    "import plotly.express as px\n",
    "\n",
    "melted_results = results.melt(\n",
    "    value_vars=[\n",
    "        \"F1_Cytoplasma\",\n",
    "        \"F1_Cytoplasma_Mod\",\n",
    "        \"f1\",\n",
    "        \"Jaccard_Jadra\",\n",
    "        \"Jaccard_Jadra_Mod\",\n",
    "        \"jaccard\",\n",
    "    ],\n",
    "    var_name=\"Metric\",\n",
    "    value_name=\"Value\",\n",
    ")\n",
    "\n",
    "cytoplasma_results = melted_results[\n",
    "    melted_results[\"Metric\"].isin([\"F1_Cytoplasma\", \"F1_Cytoplasma_Mod\", \"f1\"])\n",
    "]\n",
    "nucleus_results = melted_results[\n",
    "    melted_results[\"Metric\"].isin([\"Jaccard_Jadra\", \"Jaccard_Jadra_Mod\", \"jaccard\"])\n",
    "]"
   ]
  },
  {
   "cell_type": "code",
   "execution_count": 393,
   "id": "a9e520b6",
   "metadata": {},
   "outputs": [
    {
     "data": {
      "application/vnd.plotly.v1+json": {
       "config": {
        "plotlyServerURL": "https://plot.ly"
       },
       "data": [
        {
         "alignmentgroup": "True",
         "boxpoints": "all",
         "hovertemplate": "Metric=%{x}<br>Value=%{y}<extra></extra>",
         "legendgroup": "F1_Cytoplasma",
         "marker": {
          "color": "#636efa"
         },
         "name": "F1_Cytoplasma",
         "notched": false,
         "offsetgroup": "F1_Cytoplasma",
         "orientation": "v",
         "showlegend": true,
         "type": "box",
         "x": [
          "F1_Cytoplasma",
          "F1_Cytoplasma",
          "F1_Cytoplasma",
          "F1_Cytoplasma",
          "F1_Cytoplasma",
          "F1_Cytoplasma",
          "F1_Cytoplasma",
          "F1_Cytoplasma",
          "F1_Cytoplasma",
          "F1_Cytoplasma",
          "F1_Cytoplasma",
          "F1_Cytoplasma",
          "F1_Cytoplasma",
          "F1_Cytoplasma",
          "F1_Cytoplasma",
          "F1_Cytoplasma",
          "F1_Cytoplasma",
          "F1_Cytoplasma",
          "F1_Cytoplasma",
          "F1_Cytoplasma",
          "F1_Cytoplasma",
          "F1_Cytoplasma",
          "F1_Cytoplasma",
          "F1_Cytoplasma",
          "F1_Cytoplasma",
          "F1_Cytoplasma",
          "F1_Cytoplasma",
          "F1_Cytoplasma",
          "F1_Cytoplasma",
          "F1_Cytoplasma",
          "F1_Cytoplasma",
          "F1_Cytoplasma",
          "F1_Cytoplasma",
          "F1_Cytoplasma",
          "F1_Cytoplasma",
          "F1_Cytoplasma",
          "F1_Cytoplasma",
          "F1_Cytoplasma",
          "F1_Cytoplasma",
          "F1_Cytoplasma",
          "F1_Cytoplasma",
          "F1_Cytoplasma",
          "F1_Cytoplasma",
          "F1_Cytoplasma",
          "F1_Cytoplasma",
          "F1_Cytoplasma",
          "F1_Cytoplasma",
          "F1_Cytoplasma",
          "F1_Cytoplasma",
          "F1_Cytoplasma"
         ],
         "x0": " ",
         "xaxis": "x",
         "y": [
          0.8227387981630229,
          0.8176730891747164,
          0.8641623980269398,
          0.8655487027881136,
          0.8813801223841721,
          0.8658234257803846,
          0.8474930362116991,
          0.8636812873230418,
          0.8496019641395729,
          0.8436515579349405,
          0.8334815043871516,
          0.8509862564978993,
          0.844423497150692,
          0.8698096459216885,
          0.8636189906442661,
          0.8603007992878734,
          0.8510093015542791,
          0.850010103993409,
          0.8659690078486617,
          0.8341992665036675,
          0.7850344305440387,
          0.826123068891051,
          0.6176656317423564,
          0.6699517781796263,
          0.8896325901670921,
          0.8649329083750703,
          0.8428052047455032,
          0.7746591263921174,
          0.8781484002722941,
          0.8553323694976775,
          0.8617380530113457,
          0.8820091792810514,
          0.8629280124119917,
          0.8473830355739509,
          0.8434760130113527,
          0.8908379588435519,
          0.8597110466333643,
          0.8067286231290115,
          0.8451381401021689,
          0.8780459836018577,
          0.8586727284207868,
          0.8330906133565336,
          0.8283099965720011,
          0.8748335235920852,
          0.7831307308622801,
          0.831207210757031,
          0.8223075516547815,
          0.8509266720386784,
          0.8761535455556557,
          0.8791636051922606
         ],
         "y0": " ",
         "yaxis": "y"
        },
        {
         "alignmentgroup": "True",
         "boxpoints": "all",
         "hovertemplate": "Metric=%{x}<br>Value=%{y}<extra></extra>",
         "legendgroup": "F1_Cytoplasma_Mod",
         "marker": {
          "color": "#EF553B"
         },
         "name": "F1_Cytoplasma_Mod",
         "notched": false,
         "offsetgroup": "F1_Cytoplasma_Mod",
         "orientation": "v",
         "showlegend": true,
         "type": "box",
         "x": [
          "F1_Cytoplasma_Mod",
          "F1_Cytoplasma_Mod",
          "F1_Cytoplasma_Mod",
          "F1_Cytoplasma_Mod",
          "F1_Cytoplasma_Mod",
          "F1_Cytoplasma_Mod",
          "F1_Cytoplasma_Mod",
          "F1_Cytoplasma_Mod",
          "F1_Cytoplasma_Mod",
          "F1_Cytoplasma_Mod",
          "F1_Cytoplasma_Mod",
          "F1_Cytoplasma_Mod",
          "F1_Cytoplasma_Mod",
          "F1_Cytoplasma_Mod",
          "F1_Cytoplasma_Mod",
          "F1_Cytoplasma_Mod",
          "F1_Cytoplasma_Mod",
          "F1_Cytoplasma_Mod",
          "F1_Cytoplasma_Mod",
          "F1_Cytoplasma_Mod",
          "F1_Cytoplasma_Mod",
          "F1_Cytoplasma_Mod",
          "F1_Cytoplasma_Mod",
          "F1_Cytoplasma_Mod",
          "F1_Cytoplasma_Mod",
          "F1_Cytoplasma_Mod",
          "F1_Cytoplasma_Mod",
          "F1_Cytoplasma_Mod",
          "F1_Cytoplasma_Mod",
          "F1_Cytoplasma_Mod",
          "F1_Cytoplasma_Mod",
          "F1_Cytoplasma_Mod",
          "F1_Cytoplasma_Mod",
          "F1_Cytoplasma_Mod",
          "F1_Cytoplasma_Mod",
          "F1_Cytoplasma_Mod",
          "F1_Cytoplasma_Mod",
          "F1_Cytoplasma_Mod",
          "F1_Cytoplasma_Mod",
          "F1_Cytoplasma_Mod",
          "F1_Cytoplasma_Mod",
          "F1_Cytoplasma_Mod",
          "F1_Cytoplasma_Mod",
          "F1_Cytoplasma_Mod",
          "F1_Cytoplasma_Mod",
          "F1_Cytoplasma_Mod",
          "F1_Cytoplasma_Mod",
          "F1_Cytoplasma_Mod",
          "F1_Cytoplasma_Mod",
          "F1_Cytoplasma_Mod"
         ],
         "x0": " ",
         "xaxis": "x",
         "y": [
          0.8420351772734839,
          0.8379143088116411,
          0.8541305746671286,
          0.8605716322017377,
          0.8748676216487375,
          0.8675134524970683,
          0.8517464944463989,
          0.8499043977055449,
          0.8499091647017897,
          0.8428259236495254,
          0.7893859868366242,
          0.839665777989604,
          0.8353995631543271,
          0.8680394096263279,
          0.8825748933855144,
          0.8648374182208769,
          0.8334758547249875,
          0.8610658674832237,
          0.8773955688497791,
          0.8446955228081462,
          0.8362753133558563,
          0.8508616026582181,
          0.6836430443032256,
          0.7316108126545579,
          0.8803119688031197,
          0.8710603316148808,
          0.8471131639722864,
          0.8011786372007367,
          0.8785090940779563,
          0.8607044684523429,
          0.8838941556412127,
          0.8815762448284968,
          0.8581119973686374,
          0.8531460859070712,
          0.8404636081097759,
          0.8990233719215778,
          0.8541280435051292,
          0.8132860452029158,
          0.8519395037532818,
          0.8809635722679201,
          0.846654225539856,
          0.8476082772850823,
          0.841804381911779,
          0.8732141980460504,
          0.8194761369114575,
          0.8258646491519788,
          0.815735629077713,
          0.8426535280661622,
          0.8757182311672645,
          0.8861774391116909
         ],
         "y0": " ",
         "yaxis": "y"
        },
        {
         "alignmentgroup": "True",
         "boxpoints": "all",
         "hovertemplate": "Metric=%{x}<br>Value=%{y}<extra></extra>",
         "legendgroup": "f1",
         "marker": {
          "color": "#00cc96"
         },
         "name": "f1",
         "notched": false,
         "offsetgroup": "f1",
         "orientation": "v",
         "showlegend": true,
         "type": "box",
         "x": [
          "f1",
          "f1",
          "f1",
          "f1",
          "f1",
          "f1",
          "f1",
          "f1",
          "f1",
          "f1",
          "f1",
          "f1",
          "f1",
          "f1",
          "f1",
          "f1",
          "f1",
          "f1",
          "f1",
          "f1",
          "f1",
          "f1",
          "f1",
          "f1",
          "f1",
          "f1",
          "f1",
          "f1",
          "f1",
          "f1",
          "f1",
          "f1",
          "f1",
          "f1",
          "f1",
          "f1",
          "f1",
          "f1",
          "f1",
          "f1",
          "f1",
          "f1",
          "f1",
          "f1",
          "f1",
          "f1",
          "f1",
          "f1",
          "f1",
          "f1"
         ],
         "x0": " ",
         "xaxis": "x",
         "y": [
          0.8937809244663769,
          0.8972783850258135,
          0.8743775816772619,
          0.7846059348782143,
          0.8903882371122409,
          0.8018024920306881,
          0.7868143575961883,
          0.8538178046346427,
          0.8960721834997918,
          0.8841604523059273,
          0.8946141988647823,
          0.8454608318468635,
          0.8541625739633346,
          0.8354251958604106,
          0.8816809289192382,
          0.8842298645544389,
          0.8573912257679221,
          0.8747524733024776,
          0.879311089981848,
          0.898737024493356,
          0.7684600565251443,
          0.8248879581535818,
          0.8801518949543844,
          0.8874215183209047,
          0.9164993569544524,
          0.9304967297663296,
          0.95984304973846,
          0.9466697836695244,
          0.8349874403120146,
          0.8696732647592704,
          0.9278505514999594,
          0.8529341081311865,
          0.7925159844621337,
          0.8567720816078496,
          0.8111980292160083,
          0.8625319885692433,
          0.8627313850755808,
          0.8492231721659503,
          0.8817712958088099,
          0.855328503288569,
          0.8377642576687439,
          0.8985284603315548,
          0.8451154076856384,
          0.8246921632261766,
          0.9398729493919226,
          0.7975326564984271,
          0.8847344130212139,
          0.8768086474564994,
          0.8629556652181771,
          0.8747190768432881
         ],
         "y0": " ",
         "yaxis": "y"
        }
       ],
       "layout": {
        "boxmode": "overlay",
        "font": {
         "size": 16
        },
        "height": 600,
        "legend": {
         "title": {
          "text": "Metric"
         },
         "tracegroupgap": 0
        },
        "margin": {
         "t": 60
        },
        "showlegend": false,
        "template": {
         "data": {
          "bar": [
           {
            "error_x": {
             "color": "#2a3f5f"
            },
            "error_y": {
             "color": "#2a3f5f"
            },
            "marker": {
             "line": {
              "color": "white",
              "width": 0.5
             },
             "pattern": {
              "fillmode": "overlay",
              "size": 10,
              "solidity": 0.2
             }
            },
            "type": "bar"
           }
          ],
          "barpolar": [
           {
            "marker": {
             "line": {
              "color": "white",
              "width": 0.5
             },
             "pattern": {
              "fillmode": "overlay",
              "size": 10,
              "solidity": 0.2
             }
            },
            "type": "barpolar"
           }
          ],
          "carpet": [
           {
            "aaxis": {
             "endlinecolor": "#2a3f5f",
             "gridcolor": "#C8D4E3",
             "linecolor": "#C8D4E3",
             "minorgridcolor": "#C8D4E3",
             "startlinecolor": "#2a3f5f"
            },
            "baxis": {
             "endlinecolor": "#2a3f5f",
             "gridcolor": "#C8D4E3",
             "linecolor": "#C8D4E3",
             "minorgridcolor": "#C8D4E3",
             "startlinecolor": "#2a3f5f"
            },
            "type": "carpet"
           }
          ],
          "choropleth": [
           {
            "colorbar": {
             "outlinewidth": 0,
             "ticks": ""
            },
            "type": "choropleth"
           }
          ],
          "contour": [
           {
            "colorbar": {
             "outlinewidth": 0,
             "ticks": ""
            },
            "colorscale": [
             [
              0,
              "#0d0887"
             ],
             [
              0.1111111111111111,
              "#46039f"
             ],
             [
              0.2222222222222222,
              "#7201a8"
             ],
             [
              0.3333333333333333,
              "#9c179e"
             ],
             [
              0.4444444444444444,
              "#bd3786"
             ],
             [
              0.5555555555555556,
              "#d8576b"
             ],
             [
              0.6666666666666666,
              "#ed7953"
             ],
             [
              0.7777777777777778,
              "#fb9f3a"
             ],
             [
              0.8888888888888888,
              "#fdca26"
             ],
             [
              1,
              "#f0f921"
             ]
            ],
            "type": "contour"
           }
          ],
          "contourcarpet": [
           {
            "colorbar": {
             "outlinewidth": 0,
             "ticks": ""
            },
            "type": "contourcarpet"
           }
          ],
          "heatmap": [
           {
            "colorbar": {
             "outlinewidth": 0,
             "ticks": ""
            },
            "colorscale": [
             [
              0,
              "#0d0887"
             ],
             [
              0.1111111111111111,
              "#46039f"
             ],
             [
              0.2222222222222222,
              "#7201a8"
             ],
             [
              0.3333333333333333,
              "#9c179e"
             ],
             [
              0.4444444444444444,
              "#bd3786"
             ],
             [
              0.5555555555555556,
              "#d8576b"
             ],
             [
              0.6666666666666666,
              "#ed7953"
             ],
             [
              0.7777777777777778,
              "#fb9f3a"
             ],
             [
              0.8888888888888888,
              "#fdca26"
             ],
             [
              1,
              "#f0f921"
             ]
            ],
            "type": "heatmap"
           }
          ],
          "heatmapgl": [
           {
            "colorbar": {
             "outlinewidth": 0,
             "ticks": ""
            },
            "colorscale": [
             [
              0,
              "#0d0887"
             ],
             [
              0.1111111111111111,
              "#46039f"
             ],
             [
              0.2222222222222222,
              "#7201a8"
             ],
             [
              0.3333333333333333,
              "#9c179e"
             ],
             [
              0.4444444444444444,
              "#bd3786"
             ],
             [
              0.5555555555555556,
              "#d8576b"
             ],
             [
              0.6666666666666666,
              "#ed7953"
             ],
             [
              0.7777777777777778,
              "#fb9f3a"
             ],
             [
              0.8888888888888888,
              "#fdca26"
             ],
             [
              1,
              "#f0f921"
             ]
            ],
            "type": "heatmapgl"
           }
          ],
          "histogram": [
           {
            "marker": {
             "pattern": {
              "fillmode": "overlay",
              "size": 10,
              "solidity": 0.2
             }
            },
            "type": "histogram"
           }
          ],
          "histogram2d": [
           {
            "colorbar": {
             "outlinewidth": 0,
             "ticks": ""
            },
            "colorscale": [
             [
              0,
              "#0d0887"
             ],
             [
              0.1111111111111111,
              "#46039f"
             ],
             [
              0.2222222222222222,
              "#7201a8"
             ],
             [
              0.3333333333333333,
              "#9c179e"
             ],
             [
              0.4444444444444444,
              "#bd3786"
             ],
             [
              0.5555555555555556,
              "#d8576b"
             ],
             [
              0.6666666666666666,
              "#ed7953"
             ],
             [
              0.7777777777777778,
              "#fb9f3a"
             ],
             [
              0.8888888888888888,
              "#fdca26"
             ],
             [
              1,
              "#f0f921"
             ]
            ],
            "type": "histogram2d"
           }
          ],
          "histogram2dcontour": [
           {
            "colorbar": {
             "outlinewidth": 0,
             "ticks": ""
            },
            "colorscale": [
             [
              0,
              "#0d0887"
             ],
             [
              0.1111111111111111,
              "#46039f"
             ],
             [
              0.2222222222222222,
              "#7201a8"
             ],
             [
              0.3333333333333333,
              "#9c179e"
             ],
             [
              0.4444444444444444,
              "#bd3786"
             ],
             [
              0.5555555555555556,
              "#d8576b"
             ],
             [
              0.6666666666666666,
              "#ed7953"
             ],
             [
              0.7777777777777778,
              "#fb9f3a"
             ],
             [
              0.8888888888888888,
              "#fdca26"
             ],
             [
              1,
              "#f0f921"
             ]
            ],
            "type": "histogram2dcontour"
           }
          ],
          "mesh3d": [
           {
            "colorbar": {
             "outlinewidth": 0,
             "ticks": ""
            },
            "type": "mesh3d"
           }
          ],
          "parcoords": [
           {
            "line": {
             "colorbar": {
              "outlinewidth": 0,
              "ticks": ""
             }
            },
            "type": "parcoords"
           }
          ],
          "pie": [
           {
            "automargin": true,
            "type": "pie"
           }
          ],
          "scatter": [
           {
            "fillpattern": {
             "fillmode": "overlay",
             "size": 10,
             "solidity": 0.2
            },
            "type": "scatter"
           }
          ],
          "scatter3d": [
           {
            "line": {
             "colorbar": {
              "outlinewidth": 0,
              "ticks": ""
             }
            },
            "marker": {
             "colorbar": {
              "outlinewidth": 0,
              "ticks": ""
             }
            },
            "type": "scatter3d"
           }
          ],
          "scattercarpet": [
           {
            "marker": {
             "colorbar": {
              "outlinewidth": 0,
              "ticks": ""
             }
            },
            "type": "scattercarpet"
           }
          ],
          "scattergeo": [
           {
            "marker": {
             "colorbar": {
              "outlinewidth": 0,
              "ticks": ""
             }
            },
            "type": "scattergeo"
           }
          ],
          "scattergl": [
           {
            "marker": {
             "colorbar": {
              "outlinewidth": 0,
              "ticks": ""
             }
            },
            "type": "scattergl"
           }
          ],
          "scattermapbox": [
           {
            "marker": {
             "colorbar": {
              "outlinewidth": 0,
              "ticks": ""
             }
            },
            "type": "scattermapbox"
           }
          ],
          "scatterpolar": [
           {
            "marker": {
             "colorbar": {
              "outlinewidth": 0,
              "ticks": ""
             }
            },
            "type": "scatterpolar"
           }
          ],
          "scatterpolargl": [
           {
            "marker": {
             "colorbar": {
              "outlinewidth": 0,
              "ticks": ""
             }
            },
            "type": "scatterpolargl"
           }
          ],
          "scatterternary": [
           {
            "marker": {
             "colorbar": {
              "outlinewidth": 0,
              "ticks": ""
             }
            },
            "type": "scatterternary"
           }
          ],
          "surface": [
           {
            "colorbar": {
             "outlinewidth": 0,
             "ticks": ""
            },
            "colorscale": [
             [
              0,
              "#0d0887"
             ],
             [
              0.1111111111111111,
              "#46039f"
             ],
             [
              0.2222222222222222,
              "#7201a8"
             ],
             [
              0.3333333333333333,
              "#9c179e"
             ],
             [
              0.4444444444444444,
              "#bd3786"
             ],
             [
              0.5555555555555556,
              "#d8576b"
             ],
             [
              0.6666666666666666,
              "#ed7953"
             ],
             [
              0.7777777777777778,
              "#fb9f3a"
             ],
             [
              0.8888888888888888,
              "#fdca26"
             ],
             [
              1,
              "#f0f921"
             ]
            ],
            "type": "surface"
           }
          ],
          "table": [
           {
            "cells": {
             "fill": {
              "color": "#EBF0F8"
             },
             "line": {
              "color": "white"
             }
            },
            "header": {
             "fill": {
              "color": "#C8D4E3"
             },
             "line": {
              "color": "white"
             }
            },
            "type": "table"
           }
          ]
         },
         "layout": {
          "annotationdefaults": {
           "arrowcolor": "#2a3f5f",
           "arrowhead": 0,
           "arrowwidth": 1
          },
          "autotypenumbers": "strict",
          "coloraxis": {
           "colorbar": {
            "outlinewidth": 0,
            "ticks": ""
           }
          },
          "colorscale": {
           "diverging": [
            [
             0,
             "#8e0152"
            ],
            [
             0.1,
             "#c51b7d"
            ],
            [
             0.2,
             "#de77ae"
            ],
            [
             0.3,
             "#f1b6da"
            ],
            [
             0.4,
             "#fde0ef"
            ],
            [
             0.5,
             "#f7f7f7"
            ],
            [
             0.6,
             "#e6f5d0"
            ],
            [
             0.7,
             "#b8e186"
            ],
            [
             0.8,
             "#7fbc41"
            ],
            [
             0.9,
             "#4d9221"
            ],
            [
             1,
             "#276419"
            ]
           ],
           "sequential": [
            [
             0,
             "#0d0887"
            ],
            [
             0.1111111111111111,
             "#46039f"
            ],
            [
             0.2222222222222222,
             "#7201a8"
            ],
            [
             0.3333333333333333,
             "#9c179e"
            ],
            [
             0.4444444444444444,
             "#bd3786"
            ],
            [
             0.5555555555555556,
             "#d8576b"
            ],
            [
             0.6666666666666666,
             "#ed7953"
            ],
            [
             0.7777777777777778,
             "#fb9f3a"
            ],
            [
             0.8888888888888888,
             "#fdca26"
            ],
            [
             1,
             "#f0f921"
            ]
           ],
           "sequentialminus": [
            [
             0,
             "#0d0887"
            ],
            [
             0.1111111111111111,
             "#46039f"
            ],
            [
             0.2222222222222222,
             "#7201a8"
            ],
            [
             0.3333333333333333,
             "#9c179e"
            ],
            [
             0.4444444444444444,
             "#bd3786"
            ],
            [
             0.5555555555555556,
             "#d8576b"
            ],
            [
             0.6666666666666666,
             "#ed7953"
            ],
            [
             0.7777777777777778,
             "#fb9f3a"
            ],
            [
             0.8888888888888888,
             "#fdca26"
            ],
            [
             1,
             "#f0f921"
            ]
           ]
          },
          "colorway": [
           "#636efa",
           "#EF553B",
           "#00cc96",
           "#ab63fa",
           "#FFA15A",
           "#19d3f3",
           "#FF6692",
           "#B6E880",
           "#FF97FF",
           "#FECB52"
          ],
          "font": {
           "color": "#2a3f5f"
          },
          "geo": {
           "bgcolor": "white",
           "lakecolor": "white",
           "landcolor": "white",
           "showlakes": true,
           "showland": true,
           "subunitcolor": "#C8D4E3"
          },
          "hoverlabel": {
           "align": "left"
          },
          "hovermode": "closest",
          "mapbox": {
           "style": "light"
          },
          "paper_bgcolor": "white",
          "plot_bgcolor": "white",
          "polar": {
           "angularaxis": {
            "gridcolor": "#EBF0F8",
            "linecolor": "#EBF0F8",
            "ticks": ""
           },
           "bgcolor": "white",
           "radialaxis": {
            "gridcolor": "#EBF0F8",
            "linecolor": "#EBF0F8",
            "ticks": ""
           }
          },
          "scene": {
           "xaxis": {
            "backgroundcolor": "white",
            "gridcolor": "#DFE8F3",
            "gridwidth": 2,
            "linecolor": "#EBF0F8",
            "showbackground": true,
            "ticks": "",
            "zerolinecolor": "#EBF0F8"
           },
           "yaxis": {
            "backgroundcolor": "white",
            "gridcolor": "#DFE8F3",
            "gridwidth": 2,
            "linecolor": "#EBF0F8",
            "showbackground": true,
            "ticks": "",
            "zerolinecolor": "#EBF0F8"
           },
           "zaxis": {
            "backgroundcolor": "white",
            "gridcolor": "#DFE8F3",
            "gridwidth": 2,
            "linecolor": "#EBF0F8",
            "showbackground": true,
            "ticks": "",
            "zerolinecolor": "#EBF0F8"
           }
          },
          "shapedefaults": {
           "line": {
            "color": "#2a3f5f"
           }
          },
          "ternary": {
           "aaxis": {
            "gridcolor": "#DFE8F3",
            "linecolor": "#A2B1C6",
            "ticks": ""
           },
           "baxis": {
            "gridcolor": "#DFE8F3",
            "linecolor": "#A2B1C6",
            "ticks": ""
           },
           "bgcolor": "white",
           "caxis": {
            "gridcolor": "#DFE8F3",
            "linecolor": "#A2B1C6",
            "ticks": ""
           }
          },
          "title": {
           "x": 0.05
          },
          "xaxis": {
           "automargin": true,
           "gridcolor": "#EBF0F8",
           "linecolor": "#EBF0F8",
           "ticks": "",
           "title": {
            "standoff": 15
           },
           "zerolinecolor": "#EBF0F8",
           "zerolinewidth": 2
          },
          "yaxis": {
           "automargin": true,
           "gridcolor": "#EBF0F8",
           "linecolor": "#EBF0F8",
           "ticks": "",
           "title": {
            "standoff": 15
           },
           "zerolinecolor": "#EBF0F8",
           "zerolinewidth": 2
          }
         }
        },
        "width": 1600,
        "xaxis": {
         "anchor": "y",
         "categoryarray": [
          "F1_Cytoplasma",
          "F1_Cytoplasma_Mod",
          "f1"
         ],
         "categoryorder": "array",
         "domain": [
          0,
          1
         ],
         "ticktext": [
          "SVM",
          "SVM mod",
          "Vlastní algoritmus"
         ],
         "tickvals": [
          "F1_Cytoplasma",
          "F1_Cytoplasma_Mod",
          "f1"
         ],
         "title": {}
        },
        "yaxis": {
         "anchor": "x",
         "domain": [
          0,
          1
         ],
         "title": {
          "text": "F1"
         }
        }
       }
      }
     },
     "metadata": {},
     "output_type": "display_data"
    }
   ],
   "source": [
    "fig = px.box(\n",
    "    cytoplasma_results,\n",
    "    x=\"Metric\",\n",
    "    y=\"Value\",\n",
    "    points=\"all\",\n",
    "    color=\"Metric\",\n",
    "    template=\"plotly_white\",\n",
    ")\n",
    "\n",
    "fig.update_layout(\n",
    "    showlegend=False,\n",
    "    width=1600,\n",
    "    height=600,\n",
    "    xaxis_title=None,\n",
    "    yaxis_title=\"F1\",\n",
    "    font=dict(size=16),\n",
    ")\n",
    "\n",
    "fig.update_xaxes(\n",
    "    ticktext=[\n",
    "        \"SVM\",\n",
    "        \"SVM mod\",\n",
    "        \"Vlastní algoritmus\",\n",
    "    ],\n",
    "    tickvals=[\n",
    "        \"F1_Cytoplasma\",\n",
    "        \"F1_Cytoplasma_Mod\",\n",
    "        \"f1\",\n",
    "    ],\n",
    ")\n",
    "\n",
    "fig.show()"
   ]
  },
  {
   "cell_type": "code",
   "execution_count": 395,
   "id": "2bfe970a",
   "metadata": {},
   "outputs": [
    {
     "data": {
      "application/vnd.plotly.v1+json": {
       "config": {
        "plotlyServerURL": "https://plot.ly"
       },
       "data": [
        {
         "alignmentgroup": "True",
         "boxpoints": "all",
         "hovertemplate": "Metric=%{x}<br>Value=%{y}<extra></extra>",
         "legendgroup": "Jaccard_Jadra",
         "marker": {
          "color": "#636efa"
         },
         "name": "Jaccard_Jadra",
         "notched": false,
         "offsetgroup": "Jaccard_Jadra",
         "orientation": "v",
         "showlegend": true,
         "type": "box",
         "x": [
          "Jaccard_Jadra",
          "Jaccard_Jadra",
          "Jaccard_Jadra",
          "Jaccard_Jadra",
          "Jaccard_Jadra",
          "Jaccard_Jadra",
          "Jaccard_Jadra",
          "Jaccard_Jadra",
          "Jaccard_Jadra",
          "Jaccard_Jadra",
          "Jaccard_Jadra",
          "Jaccard_Jadra",
          "Jaccard_Jadra",
          "Jaccard_Jadra",
          "Jaccard_Jadra",
          "Jaccard_Jadra",
          "Jaccard_Jadra",
          "Jaccard_Jadra",
          "Jaccard_Jadra",
          "Jaccard_Jadra",
          "Jaccard_Jadra",
          "Jaccard_Jadra",
          "Jaccard_Jadra",
          "Jaccard_Jadra",
          "Jaccard_Jadra",
          "Jaccard_Jadra",
          "Jaccard_Jadra",
          "Jaccard_Jadra",
          "Jaccard_Jadra",
          "Jaccard_Jadra",
          "Jaccard_Jadra",
          "Jaccard_Jadra",
          "Jaccard_Jadra",
          "Jaccard_Jadra",
          "Jaccard_Jadra",
          "Jaccard_Jadra",
          "Jaccard_Jadra",
          "Jaccard_Jadra",
          "Jaccard_Jadra",
          "Jaccard_Jadra",
          "Jaccard_Jadra",
          "Jaccard_Jadra",
          "Jaccard_Jadra",
          "Jaccard_Jadra",
          "Jaccard_Jadra",
          "Jaccard_Jadra",
          "Jaccard_Jadra",
          "Jaccard_Jadra",
          "Jaccard_Jadra",
          "Jaccard_Jadra"
         ],
         "x0": " ",
         "xaxis": "x",
         "y": [
          0.7107344632768362,
          0.6258719086873811,
          0.6845580404685836,
          0.6933826294021808,
          0.6428822495606327,
          0.733900662793552,
          0.7665632705002784,
          0.7396643854879535,
          0.7603294625978936,
          0.7020855178841897,
          0.728021978021978,
          0.7283164210058514,
          0.7711249616838664,
          0.7193136472466082,
          0.7812789620018535,
          0.6794629978919339,
          0.7458103975535169,
          0.7125104427736006,
          0.7864308615161858,
          0.6666227260743475,
          0.5920556834833578,
          0.7015319211317159,
          0.4374665340778704,
          0.4744897959183674,
          0.6898985443317159,
          0.58454398708636,
          0.5495169082125604,
          0.447651663405088,
          0.8100404560500184,
          0.7887497628533485,
          0.6915841584158415,
          0.7692906574394464,
          0.7867519579123573,
          0.7385370014928556,
          0.8256213098997666,
          0.7809106098579783,
          0.751631572466445,
          0.7606794141578519,
          0.788509784244857,
          0.6832406671961875,
          0.7301877708233029,
          0.6587279735682819,
          0.5737304245496515,
          0.6392164701179293,
          0.633304572907679,
          0.6786518387118783,
          0.752276467361492,
          0.7059294871794872,
          0.7508771929824561,
          0.7531870428422153
         ],
         "y0": " ",
         "yaxis": "y"
        },
        {
         "alignmentgroup": "True",
         "boxpoints": "all",
         "hovertemplate": "Metric=%{x}<br>Value=%{y}<extra></extra>",
         "legendgroup": "Jaccard_Jadra_Mod",
         "marker": {
          "color": "#EF553B"
         },
         "name": "Jaccard_Jadra_Mod",
         "notched": false,
         "offsetgroup": "Jaccard_Jadra_Mod",
         "orientation": "v",
         "showlegend": true,
         "type": "box",
         "x": [
          "Jaccard_Jadra_Mod",
          "Jaccard_Jadra_Mod",
          "Jaccard_Jadra_Mod",
          "Jaccard_Jadra_Mod",
          "Jaccard_Jadra_Mod",
          "Jaccard_Jadra_Mod",
          "Jaccard_Jadra_Mod",
          "Jaccard_Jadra_Mod",
          "Jaccard_Jadra_Mod",
          "Jaccard_Jadra_Mod",
          "Jaccard_Jadra_Mod",
          "Jaccard_Jadra_Mod",
          "Jaccard_Jadra_Mod",
          "Jaccard_Jadra_Mod",
          "Jaccard_Jadra_Mod",
          "Jaccard_Jadra_Mod",
          "Jaccard_Jadra_Mod",
          "Jaccard_Jadra_Mod",
          "Jaccard_Jadra_Mod",
          "Jaccard_Jadra_Mod",
          "Jaccard_Jadra_Mod",
          "Jaccard_Jadra_Mod",
          "Jaccard_Jadra_Mod",
          "Jaccard_Jadra_Mod",
          "Jaccard_Jadra_Mod",
          "Jaccard_Jadra_Mod",
          "Jaccard_Jadra_Mod",
          "Jaccard_Jadra_Mod",
          "Jaccard_Jadra_Mod",
          "Jaccard_Jadra_Mod",
          "Jaccard_Jadra_Mod",
          "Jaccard_Jadra_Mod",
          "Jaccard_Jadra_Mod",
          "Jaccard_Jadra_Mod",
          "Jaccard_Jadra_Mod",
          "Jaccard_Jadra_Mod",
          "Jaccard_Jadra_Mod",
          "Jaccard_Jadra_Mod",
          "Jaccard_Jadra_Mod",
          "Jaccard_Jadra_Mod",
          "Jaccard_Jadra_Mod",
          "Jaccard_Jadra_Mod",
          "Jaccard_Jadra_Mod",
          "Jaccard_Jadra_Mod",
          "Jaccard_Jadra_Mod",
          "Jaccard_Jadra_Mod",
          "Jaccard_Jadra_Mod",
          "Jaccard_Jadra_Mod",
          "Jaccard_Jadra_Mod",
          "Jaccard_Jadra_Mod"
         ],
         "x0": " ",
         "xaxis": "x",
         "y": [
          0.6679414335664335,
          0.5370156826568265,
          0.5705820843499477,
          0.6696675900277008,
          0.4578768417075935,
          0.5777548031360386,
          0.5896403884854318,
          0.5668336673346693,
          0.646348559790515,
          0.6235279219956946,
          0.6979565772669221,
          0.6538083538083538,
          0.6775920463236097,
          0.6278115252011164,
          0.7369405311058471,
          0.6336963484945548,
          0.742791390280222,
          0.7206320128234486,
          0.7593753562065428,
          0.7702396373056994,
          0.6965365194509636,
          0.7780732074802801,
          0.5620626547529336,
          0.6800507672781816,
          0.7052793439261917,
          0.64080524768152,
          0.6332027424094026,
          0.6132717549829849,
          0.81703253626029,
          0.748886910062333,
          0.7753126260588947,
          0.8439922480620154,
          0.7532880106741217,
          0.7859308671922377,
          0.7865571007163927,
          0.8230778045147245,
          0.7462550475446138,
          0.7680946894312349,
          0.7707144797609345,
          0.7391738538356786,
          0.664012053379251,
          0.7157164869029276,
          0.734727124626663,
          0.5595293389069516,
          0.7296367112810708,
          0.4757706040953144,
          0.5609192747430419,
          0.5433490215506565,
          0.62405335141856,
          0.6320189809061123
         ],
         "y0": " ",
         "yaxis": "y"
        },
        {
         "alignmentgroup": "True",
         "boxpoints": "all",
         "hovertemplate": "Metric=%{x}<br>Value=%{y}<extra></extra>",
         "legendgroup": "jaccard",
         "marker": {
          "color": "#00cc96"
         },
         "name": "jaccard",
         "notched": false,
         "offsetgroup": "jaccard",
         "orientation": "v",
         "showlegend": true,
         "type": "box",
         "x": [
          "jaccard",
          "jaccard",
          "jaccard",
          "jaccard",
          "jaccard",
          "jaccard",
          "jaccard",
          "jaccard",
          "jaccard",
          "jaccard",
          "jaccard",
          "jaccard",
          "jaccard",
          "jaccard",
          "jaccard",
          "jaccard",
          "jaccard",
          "jaccard",
          "jaccard",
          "jaccard",
          "jaccard",
          "jaccard",
          "jaccard",
          "jaccard",
          "jaccard",
          "jaccard",
          "jaccard",
          "jaccard",
          "jaccard",
          "jaccard",
          "jaccard",
          "jaccard",
          "jaccard",
          "jaccard",
          "jaccard",
          "jaccard",
          "jaccard",
          "jaccard",
          "jaccard",
          "jaccard",
          "jaccard",
          "jaccard",
          "jaccard",
          "jaccard",
          "jaccard",
          "jaccard",
          "jaccard",
          "jaccard",
          "jaccard",
          "jaccard"
         ],
         "x0": " ",
         "xaxis": "x",
         "y": [
          0.7568170591141117,
          0.5354226520088092,
          0.5459245839612659,
          0.6467052070478717,
          0.6080246055788703,
          0.7272234203287834,
          0.751960802127054,
          0.5820783532033257,
          0.7389521997528588,
          0.6654790329801522,
          0.6832704919497508,
          0.6140740791709959,
          0.7246188608679843,
          0.6370237975462665,
          0.7294139671031918,
          0.576077325087253,
          0.7539607097591888,
          0.6880919988705496,
          0.7071378556177007,
          0.6822388111046132,
          0.7605215238562893,
          0.6861714694002201,
          0.7351400730816078,
          0.7092841608723619,
          0.699371714322349,
          0.6818870300719889,
          0.6787659296372944,
          0.623681661152644,
          0.700260436145545,
          0.7576507782507966,
          0.779556507642427,
          0.7789072426937739,
          0.7363495065275031,
          0.6453061345862202,
          0.7214414282425333,
          0.7455405781542009,
          0.644145489998742,
          0.7723589247327715,
          0.6483219554112761,
          0.6887601406257438,
          0.7067621920563097,
          0.6781230138267638,
          0.6753771045878451,
          0.6202382190465121,
          0.7489340767464743,
          0.6099025805782983,
          0.645796226142148,
          0.6051958000149465,
          0.6979600112842936,
          0.7461700472790512
         ],
         "y0": " ",
         "yaxis": "y"
        }
       ],
       "layout": {
        "boxmode": "overlay",
        "font": {
         "size": 16
        },
        "height": 600,
        "legend": {
         "title": {
          "text": "Metric"
         },
         "tracegroupgap": 0
        },
        "margin": {
         "t": 60
        },
        "showlegend": false,
        "template": {
         "data": {
          "bar": [
           {
            "error_x": {
             "color": "#2a3f5f"
            },
            "error_y": {
             "color": "#2a3f5f"
            },
            "marker": {
             "line": {
              "color": "white",
              "width": 0.5
             },
             "pattern": {
              "fillmode": "overlay",
              "size": 10,
              "solidity": 0.2
             }
            },
            "type": "bar"
           }
          ],
          "barpolar": [
           {
            "marker": {
             "line": {
              "color": "white",
              "width": 0.5
             },
             "pattern": {
              "fillmode": "overlay",
              "size": 10,
              "solidity": 0.2
             }
            },
            "type": "barpolar"
           }
          ],
          "carpet": [
           {
            "aaxis": {
             "endlinecolor": "#2a3f5f",
             "gridcolor": "#C8D4E3",
             "linecolor": "#C8D4E3",
             "minorgridcolor": "#C8D4E3",
             "startlinecolor": "#2a3f5f"
            },
            "baxis": {
             "endlinecolor": "#2a3f5f",
             "gridcolor": "#C8D4E3",
             "linecolor": "#C8D4E3",
             "minorgridcolor": "#C8D4E3",
             "startlinecolor": "#2a3f5f"
            },
            "type": "carpet"
           }
          ],
          "choropleth": [
           {
            "colorbar": {
             "outlinewidth": 0,
             "ticks": ""
            },
            "type": "choropleth"
           }
          ],
          "contour": [
           {
            "colorbar": {
             "outlinewidth": 0,
             "ticks": ""
            },
            "colorscale": [
             [
              0,
              "#0d0887"
             ],
             [
              0.1111111111111111,
              "#46039f"
             ],
             [
              0.2222222222222222,
              "#7201a8"
             ],
             [
              0.3333333333333333,
              "#9c179e"
             ],
             [
              0.4444444444444444,
              "#bd3786"
             ],
             [
              0.5555555555555556,
              "#d8576b"
             ],
             [
              0.6666666666666666,
              "#ed7953"
             ],
             [
              0.7777777777777778,
              "#fb9f3a"
             ],
             [
              0.8888888888888888,
              "#fdca26"
             ],
             [
              1,
              "#f0f921"
             ]
            ],
            "type": "contour"
           }
          ],
          "contourcarpet": [
           {
            "colorbar": {
             "outlinewidth": 0,
             "ticks": ""
            },
            "type": "contourcarpet"
           }
          ],
          "heatmap": [
           {
            "colorbar": {
             "outlinewidth": 0,
             "ticks": ""
            },
            "colorscale": [
             [
              0,
              "#0d0887"
             ],
             [
              0.1111111111111111,
              "#46039f"
             ],
             [
              0.2222222222222222,
              "#7201a8"
             ],
             [
              0.3333333333333333,
              "#9c179e"
             ],
             [
              0.4444444444444444,
              "#bd3786"
             ],
             [
              0.5555555555555556,
              "#d8576b"
             ],
             [
              0.6666666666666666,
              "#ed7953"
             ],
             [
              0.7777777777777778,
              "#fb9f3a"
             ],
             [
              0.8888888888888888,
              "#fdca26"
             ],
             [
              1,
              "#f0f921"
             ]
            ],
            "type": "heatmap"
           }
          ],
          "heatmapgl": [
           {
            "colorbar": {
             "outlinewidth": 0,
             "ticks": ""
            },
            "colorscale": [
             [
              0,
              "#0d0887"
             ],
             [
              0.1111111111111111,
              "#46039f"
             ],
             [
              0.2222222222222222,
              "#7201a8"
             ],
             [
              0.3333333333333333,
              "#9c179e"
             ],
             [
              0.4444444444444444,
              "#bd3786"
             ],
             [
              0.5555555555555556,
              "#d8576b"
             ],
             [
              0.6666666666666666,
              "#ed7953"
             ],
             [
              0.7777777777777778,
              "#fb9f3a"
             ],
             [
              0.8888888888888888,
              "#fdca26"
             ],
             [
              1,
              "#f0f921"
             ]
            ],
            "type": "heatmapgl"
           }
          ],
          "histogram": [
           {
            "marker": {
             "pattern": {
              "fillmode": "overlay",
              "size": 10,
              "solidity": 0.2
             }
            },
            "type": "histogram"
           }
          ],
          "histogram2d": [
           {
            "colorbar": {
             "outlinewidth": 0,
             "ticks": ""
            },
            "colorscale": [
             [
              0,
              "#0d0887"
             ],
             [
              0.1111111111111111,
              "#46039f"
             ],
             [
              0.2222222222222222,
              "#7201a8"
             ],
             [
              0.3333333333333333,
              "#9c179e"
             ],
             [
              0.4444444444444444,
              "#bd3786"
             ],
             [
              0.5555555555555556,
              "#d8576b"
             ],
             [
              0.6666666666666666,
              "#ed7953"
             ],
             [
              0.7777777777777778,
              "#fb9f3a"
             ],
             [
              0.8888888888888888,
              "#fdca26"
             ],
             [
              1,
              "#f0f921"
             ]
            ],
            "type": "histogram2d"
           }
          ],
          "histogram2dcontour": [
           {
            "colorbar": {
             "outlinewidth": 0,
             "ticks": ""
            },
            "colorscale": [
             [
              0,
              "#0d0887"
             ],
             [
              0.1111111111111111,
              "#46039f"
             ],
             [
              0.2222222222222222,
              "#7201a8"
             ],
             [
              0.3333333333333333,
              "#9c179e"
             ],
             [
              0.4444444444444444,
              "#bd3786"
             ],
             [
              0.5555555555555556,
              "#d8576b"
             ],
             [
              0.6666666666666666,
              "#ed7953"
             ],
             [
              0.7777777777777778,
              "#fb9f3a"
             ],
             [
              0.8888888888888888,
              "#fdca26"
             ],
             [
              1,
              "#f0f921"
             ]
            ],
            "type": "histogram2dcontour"
           }
          ],
          "mesh3d": [
           {
            "colorbar": {
             "outlinewidth": 0,
             "ticks": ""
            },
            "type": "mesh3d"
           }
          ],
          "parcoords": [
           {
            "line": {
             "colorbar": {
              "outlinewidth": 0,
              "ticks": ""
             }
            },
            "type": "parcoords"
           }
          ],
          "pie": [
           {
            "automargin": true,
            "type": "pie"
           }
          ],
          "scatter": [
           {
            "fillpattern": {
             "fillmode": "overlay",
             "size": 10,
             "solidity": 0.2
            },
            "type": "scatter"
           }
          ],
          "scatter3d": [
           {
            "line": {
             "colorbar": {
              "outlinewidth": 0,
              "ticks": ""
             }
            },
            "marker": {
             "colorbar": {
              "outlinewidth": 0,
              "ticks": ""
             }
            },
            "type": "scatter3d"
           }
          ],
          "scattercarpet": [
           {
            "marker": {
             "colorbar": {
              "outlinewidth": 0,
              "ticks": ""
             }
            },
            "type": "scattercarpet"
           }
          ],
          "scattergeo": [
           {
            "marker": {
             "colorbar": {
              "outlinewidth": 0,
              "ticks": ""
             }
            },
            "type": "scattergeo"
           }
          ],
          "scattergl": [
           {
            "marker": {
             "colorbar": {
              "outlinewidth": 0,
              "ticks": ""
             }
            },
            "type": "scattergl"
           }
          ],
          "scattermapbox": [
           {
            "marker": {
             "colorbar": {
              "outlinewidth": 0,
              "ticks": ""
             }
            },
            "type": "scattermapbox"
           }
          ],
          "scatterpolar": [
           {
            "marker": {
             "colorbar": {
              "outlinewidth": 0,
              "ticks": ""
             }
            },
            "type": "scatterpolar"
           }
          ],
          "scatterpolargl": [
           {
            "marker": {
             "colorbar": {
              "outlinewidth": 0,
              "ticks": ""
             }
            },
            "type": "scatterpolargl"
           }
          ],
          "scatterternary": [
           {
            "marker": {
             "colorbar": {
              "outlinewidth": 0,
              "ticks": ""
             }
            },
            "type": "scatterternary"
           }
          ],
          "surface": [
           {
            "colorbar": {
             "outlinewidth": 0,
             "ticks": ""
            },
            "colorscale": [
             [
              0,
              "#0d0887"
             ],
             [
              0.1111111111111111,
              "#46039f"
             ],
             [
              0.2222222222222222,
              "#7201a8"
             ],
             [
              0.3333333333333333,
              "#9c179e"
             ],
             [
              0.4444444444444444,
              "#bd3786"
             ],
             [
              0.5555555555555556,
              "#d8576b"
             ],
             [
              0.6666666666666666,
              "#ed7953"
             ],
             [
              0.7777777777777778,
              "#fb9f3a"
             ],
             [
              0.8888888888888888,
              "#fdca26"
             ],
             [
              1,
              "#f0f921"
             ]
            ],
            "type": "surface"
           }
          ],
          "table": [
           {
            "cells": {
             "fill": {
              "color": "#EBF0F8"
             },
             "line": {
              "color": "white"
             }
            },
            "header": {
             "fill": {
              "color": "#C8D4E3"
             },
             "line": {
              "color": "white"
             }
            },
            "type": "table"
           }
          ]
         },
         "layout": {
          "annotationdefaults": {
           "arrowcolor": "#2a3f5f",
           "arrowhead": 0,
           "arrowwidth": 1
          },
          "autotypenumbers": "strict",
          "coloraxis": {
           "colorbar": {
            "outlinewidth": 0,
            "ticks": ""
           }
          },
          "colorscale": {
           "diverging": [
            [
             0,
             "#8e0152"
            ],
            [
             0.1,
             "#c51b7d"
            ],
            [
             0.2,
             "#de77ae"
            ],
            [
             0.3,
             "#f1b6da"
            ],
            [
             0.4,
             "#fde0ef"
            ],
            [
             0.5,
             "#f7f7f7"
            ],
            [
             0.6,
             "#e6f5d0"
            ],
            [
             0.7,
             "#b8e186"
            ],
            [
             0.8,
             "#7fbc41"
            ],
            [
             0.9,
             "#4d9221"
            ],
            [
             1,
             "#276419"
            ]
           ],
           "sequential": [
            [
             0,
             "#0d0887"
            ],
            [
             0.1111111111111111,
             "#46039f"
            ],
            [
             0.2222222222222222,
             "#7201a8"
            ],
            [
             0.3333333333333333,
             "#9c179e"
            ],
            [
             0.4444444444444444,
             "#bd3786"
            ],
            [
             0.5555555555555556,
             "#d8576b"
            ],
            [
             0.6666666666666666,
             "#ed7953"
            ],
            [
             0.7777777777777778,
             "#fb9f3a"
            ],
            [
             0.8888888888888888,
             "#fdca26"
            ],
            [
             1,
             "#f0f921"
            ]
           ],
           "sequentialminus": [
            [
             0,
             "#0d0887"
            ],
            [
             0.1111111111111111,
             "#46039f"
            ],
            [
             0.2222222222222222,
             "#7201a8"
            ],
            [
             0.3333333333333333,
             "#9c179e"
            ],
            [
             0.4444444444444444,
             "#bd3786"
            ],
            [
             0.5555555555555556,
             "#d8576b"
            ],
            [
             0.6666666666666666,
             "#ed7953"
            ],
            [
             0.7777777777777778,
             "#fb9f3a"
            ],
            [
             0.8888888888888888,
             "#fdca26"
            ],
            [
             1,
             "#f0f921"
            ]
           ]
          },
          "colorway": [
           "#636efa",
           "#EF553B",
           "#00cc96",
           "#ab63fa",
           "#FFA15A",
           "#19d3f3",
           "#FF6692",
           "#B6E880",
           "#FF97FF",
           "#FECB52"
          ],
          "font": {
           "color": "#2a3f5f"
          },
          "geo": {
           "bgcolor": "white",
           "lakecolor": "white",
           "landcolor": "white",
           "showlakes": true,
           "showland": true,
           "subunitcolor": "#C8D4E3"
          },
          "hoverlabel": {
           "align": "left"
          },
          "hovermode": "closest",
          "mapbox": {
           "style": "light"
          },
          "paper_bgcolor": "white",
          "plot_bgcolor": "white",
          "polar": {
           "angularaxis": {
            "gridcolor": "#EBF0F8",
            "linecolor": "#EBF0F8",
            "ticks": ""
           },
           "bgcolor": "white",
           "radialaxis": {
            "gridcolor": "#EBF0F8",
            "linecolor": "#EBF0F8",
            "ticks": ""
           }
          },
          "scene": {
           "xaxis": {
            "backgroundcolor": "white",
            "gridcolor": "#DFE8F3",
            "gridwidth": 2,
            "linecolor": "#EBF0F8",
            "showbackground": true,
            "ticks": "",
            "zerolinecolor": "#EBF0F8"
           },
           "yaxis": {
            "backgroundcolor": "white",
            "gridcolor": "#DFE8F3",
            "gridwidth": 2,
            "linecolor": "#EBF0F8",
            "showbackground": true,
            "ticks": "",
            "zerolinecolor": "#EBF0F8"
           },
           "zaxis": {
            "backgroundcolor": "white",
            "gridcolor": "#DFE8F3",
            "gridwidth": 2,
            "linecolor": "#EBF0F8",
            "showbackground": true,
            "ticks": "",
            "zerolinecolor": "#EBF0F8"
           }
          },
          "shapedefaults": {
           "line": {
            "color": "#2a3f5f"
           }
          },
          "ternary": {
           "aaxis": {
            "gridcolor": "#DFE8F3",
            "linecolor": "#A2B1C6",
            "ticks": ""
           },
           "baxis": {
            "gridcolor": "#DFE8F3",
            "linecolor": "#A2B1C6",
            "ticks": ""
           },
           "bgcolor": "white",
           "caxis": {
            "gridcolor": "#DFE8F3",
            "linecolor": "#A2B1C6",
            "ticks": ""
           }
          },
          "title": {
           "x": 0.05
          },
          "xaxis": {
           "automargin": true,
           "gridcolor": "#EBF0F8",
           "linecolor": "#EBF0F8",
           "ticks": "",
           "title": {
            "standoff": 15
           },
           "zerolinecolor": "#EBF0F8",
           "zerolinewidth": 2
          },
          "yaxis": {
           "automargin": true,
           "gridcolor": "#EBF0F8",
           "linecolor": "#EBF0F8",
           "ticks": "",
           "title": {
            "standoff": 15
           },
           "zerolinecolor": "#EBF0F8",
           "zerolinewidth": 2
          }
         }
        },
        "width": 1600,
        "xaxis": {
         "anchor": "y",
         "categoryarray": [
          "Jaccard_Jadra",
          "Jaccard_Jadra_Mod",
          "jaccard"
         ],
         "categoryorder": "array",
         "domain": [
          0,
          1
         ],
         "ticktext": [
          "SVM",
          "SVM mod",
          "Vlastní algoritmus"
         ],
         "tickvals": [
          "Jaccard_Jadra",
          "Jaccard_Jadra_Mod",
          "jaccard"
         ],
         "title": {}
        },
        "yaxis": {
         "anchor": "x",
         "domain": [
          0,
          1
         ],
         "title": {
          "text": "IoU"
         }
        }
       }
      }
     },
     "metadata": {},
     "output_type": "display_data"
    }
   ],
   "source": [
    "fig = px.box(\n",
    "    nucleus_results,\n",
    "    x=\"Metric\",\n",
    "    y=\"Value\",\n",
    "    points=\"all\",\n",
    "    color=\"Metric\",\n",
    "    template=\"plotly_white\",\n",
    ")\n",
    "\n",
    "fig.update_layout(\n",
    "    showlegend=False,\n",
    "    width=1600,\n",
    "    height=600,\n",
    "    xaxis_title=None,\n",
    "    yaxis_title=\"IoU\",\n",
    "    font=dict(size=16),\n",
    ")\n",
    "\n",
    "fig.update_xaxes(\n",
    "    ticktext=[\n",
    "        \"SVM\",\n",
    "        \"SVM mod\",\n",
    "        \"Vlastní algoritmus\",\n",
    "    ],\n",
    "    tickvals=[\"Jaccard_Jadra\", \"Jaccard_Jadra_Mod\", \"jaccard\"],\n",
    ")\n",
    "\n",
    "\n",
    "fig.show()"
   ]
  }
 ],
 "metadata": {
  "kernelspec": {
   "display_name": ".venv",
   "language": "python",
   "name": "python3"
  },
  "language_info": {
   "codemirror_mode": {
    "name": "ipython",
    "version": 3
   },
   "file_extension": ".py",
   "mimetype": "text/x-python",
   "name": "python",
   "nbconvert_exporter": "python",
   "pygments_lexer": "ipython3",
   "version": "3.12.9"
  },
  "widgets": {
   "application/vnd.jupyter.widget-state+json": {
    "state": {},
    "version_major": 2,
    "version_minor": 0
   }
  }
 },
 "nbformat": 4,
 "nbformat_minor": 5
}
